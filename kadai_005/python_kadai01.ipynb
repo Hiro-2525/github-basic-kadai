{
  "nbformat": 4,
  "nbformat_minor": 0,
  "metadata": {
    "colab": {
      "provenance": []
    },
    "kernelspec": {
      "name": "python3",
      "display_name": "Python 3"
    },
    "language_info": {
      "name": "python"
    }
  },
  "cells": [
    {
      "cell_type": "code",
      "execution_count": 4,
      "metadata": {
        "colab": {
          "base_uri": "https://localhost:8080/"
        },
        "id": "4S58eN6-13O1",
        "outputId": "8f80da68-41ef-4afc-f511-f5629d0cd726"
      },
      "outputs": [
        {
          "output_type": "stream",
          "name": "stdout",
          "text": [
            "75.0 ㎠\n"
          ]
        }
      ],
      "source": [
        "upper = 10\n",
        "under = 20\n",
        "height = 5\n",
        "trapezoid = (upper + under) * height/2\n",
        "print(f\"{trapezoid} ㎠\")"
      ]
    }
  ]
}