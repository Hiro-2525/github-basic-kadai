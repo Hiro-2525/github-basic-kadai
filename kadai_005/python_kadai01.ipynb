{
  "nbformat": 4,
  "nbformat_minor": 0,
  "metadata": {
    "colab": {
      "provenance": []
    },
    "kernelspec": {
      "name": "python3",
      "display_name": "Python 3"
    },
    "language_info": {
      "name": "python"
    }
  },
  "cells": [
    {
      "cell_type": "code",
      "execution_count": 1,
      "metadata": {
        "id": "4S58eN6-13O1",
        "outputId": "b2e61250-5975-44d9-8514-1c54464cc315",
        "colab": {
          "base_uri": "https://localhost:8080/"
        }
      },
      "outputs": [
        {
          "output_type": "stream",
          "name": "stdout",
          "text": [
            "75.0\n"
          ]
        }
      ],
      "source": [
        "upper = 10\n",
        "under = 20\n",
        "height = 5\n",
        "\n",
        "print((upper + under) * height/2)"
      ]
    }
  ]
}