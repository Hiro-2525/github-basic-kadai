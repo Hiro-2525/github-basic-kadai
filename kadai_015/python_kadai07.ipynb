{
  "cells": [
    {
      "cell_type": "code",
      "execution_count": 17,
      "metadata": {
        "colab": {
          "base_uri": "https://localhost:8080/"
        },
        "id": "oX9ow7eBuQiP",
        "outputId": "99ae1825-e80d-4655-d2b1-0a8d051fb693"
      },
      "outputs": [
        {
          "name": "stdout",
          "output_type": "stream",
          "text": [
            "太郎は20です\n"
          ]
        }
      ],
      "source": [
        "class Human:\n",
        "  def __init__(self, name, age):\n",
        "      self.name = name\n",
        "      self.age = age\n",
        "  def printinfo(self):\n",
        "      print(f\"{self.name}は{self.age}です\")\n",
        "\n",
        "data = Human(\"太郎\", 20)\n",
        "data.printinfo()"
      ]
    }
  ],
  "metadata": {
    "colab": {
      "provenance": []
    },
    "kernelspec": {
      "display_name": "Python 3",
      "name": "python3"
    },
    "language_info": {
      "name": "python"
    }
  },
  "nbformat": 4,
  "nbformat_minor": 0
}
