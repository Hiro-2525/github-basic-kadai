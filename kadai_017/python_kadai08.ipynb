{
  "cells": [
    {
      "cell_type": "code",
      "execution_count": 7,
      "metadata": {
        "colab": {
          "base_uri": "https://localhost:8080/"
        },
        "id": "-jEuW5dKXf-V",
        "outputId": "1cfbb664-b223-4179-d34c-a24c048c14aa"
      },
      "outputs": [
        {
          "name": "stdout",
          "output_type": "stream",
          "text": [
            "太郎は大人です\n",
            "花子は大人ではありません\n",
            "次郎は大人です\n"
          ]
        }
      ],
      "source": [
        "class Human:\n",
        "  def __init__(self, name, age):\n",
        "      self.name = name\n",
        "      self.age = age\n",
        "  def check_adult(self):\n",
        "      if self.age >= 20:\n",
        "          print(f\"{self.name}は大人です\")\n",
        "      else:\n",
        "          print(f\"{self.name}は大人ではありません\")\n",
        "\n",
        "data = [\n",
        "    {\"name\": \"太郎\", \"age\": 20},\n",
        "    {\"name\": \"花子\", \"age\": 18},\n",
        "    {\"name\": \"次郎\", \"age\": 25}\n",
        "]\n",
        "\n",
        "humans = []\n",
        "for person in data:\n",
        "    human = Human(person[\"name\"], person[\"age\"])\n",
        "    humans.append(human)\n",
        "    human.check_adult()"
      ]
    },
    {
      "cell_type": "code",
      "execution_count": null,
      "metadata": {
        "id": "-Q6FcUbEYN2K"
      },
      "outputs": [],
      "source": []
    }
  ],
  "metadata": {
    "colab": {
      "provenance": []
    },
    "kernelspec": {
      "display_name": "Python 3",
      "name": "python3"
    },
    "language_info": {
      "name": "python"
    }
  },
  "nbformat": 4,
  "nbformat_minor": 0
}
