{
  "cells": [
    {
      "cell_type": "code",
      "execution_count": 11,
      "metadata": {
        "colab": {
          "base_uri": "https://localhost:8080/"
        },
        "id": "Lt71woNa1Qxt",
        "outputId": "1a3be47d-7201-411b-cf3a-b37e836dfadb"
      },
      "outputs": [
        {
          "data": {
            "text/plain": [
              "110.00000000000001"
            ]
          },
          "execution_count": 11,
          "metadata": {},
          "output_type": "execute_result"
        }
      ],
      "source": [
        "def addtax (price, tax):\n",
        "  return price * (1+(tax/100))\n",
        "\n",
        "addtax(100, 10)"
      ]
    }
  ],
  "metadata": {
    "colab": {
      "provenance": []
    },
    "kernelspec": {
      "display_name": "Python 3",
      "name": "python3"
    },
    "language_info": {
      "name": "python"
    }
  },
  "nbformat": 4,
  "nbformat_minor": 0
}
