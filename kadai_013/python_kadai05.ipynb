{
  "cells": [
    {
      "cell_type": "code",
      "execution_count": 12,
      "metadata": {
        "colab": {
          "base_uri": "https://localhost:8080/"
        },
        "id": "Lt71woNa1Qxt",
        "outputId": "a5b15de3-9604-4663-b7ed-b40a0e1ac2fa"
      },
      "outputs": [
        {
          "data": {
            "text/plain": [
              "121.00000000000001"
            ]
          },
          "execution_count": 12,
          "metadata": {},
          "output_type": "execute_result"
        }
      ],
      "source": [
        "def addtax (price, tax):\n",
        "  return price * (1+(tax/100))\n",
        "\n",
        "addtax(110, 10)"
      ]
    }
  ],
  "metadata": {
    "colab": {
      "provenance": []
    },
    "kernelspec": {
      "display_name": "Python 3",
      "name": "python3"
    },
    "language_info": {
      "name": "python"
    }
  },
  "nbformat": 4,
  "nbformat_minor": 0
}
